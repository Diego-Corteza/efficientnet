{
 "cells": [
  {
   "cell_type": "code",
   "execution_count": 1,
   "metadata": {
    "pycharm": {
     "name": "#%%\n"
    }
   },
   "outputs": [],
   "source": [
    "import json\n",
    "import torch\n",
    "import numpy as np\n",
    "from sklearn.datasets import fetch_openml\n",
    "from typing import List, Dict, Tuple, Callable\n",
    "from sklearn.model_selection import train_test_split"
   ]
  },
  {
   "cell_type": "markdown",
   "metadata": {},
   "source": [
    "### Class Training"
   ]
  },
  {
   "cell_type": "code",
   "execution_count": 2,
   "metadata": {},
   "outputs": [],
   "source": [
    "class Training:\n",
    "\n",
    "    \"\"\"\n",
    "    The class 'train_model', which inherits from the class 'Model', is initialized with a dictionary that contains some parameters for the training:\n",
    "\n",
    "    - lr:         Learning rate (default = 0.001).\n",
    "    - epochs:     Number of epochs to train (default = 100).\n",
    "    - MAX_EPOCHS: Max number of epochs allowed (default = 1000).\n",
    "\n",
    "    And contains six methods:\n",
    "\n",
    "    - train\n",
    "    - classify\n",
    "    - evaluate_performance\n",
    "    - split_data\n",
    "    \n",
    "    \"\"\"\n",
    "\n",
    "    def __init__(self, model, parameters_file: str):\n",
    "\n",
    "        super().__init__()\n",
    "\n",
    "        training_parameters = json.load(open(parameters_file))\n",
    "\n",
    "        self.__model = model\n",
    "        self.__training_dataloader = self.create_train_dataloader()\n",
    "        # self.__preprocessor: [torch.nn.Module, None] = None\n",
    "        self.__device = torch.device(\"cuda\") if torch.cuda.is_available() else torch.device(\"cpu\")\n",
    "\n",
    "        self.lr = training_parameters['lr']\n",
    "        self.epochs = training_parameters['epochs']\n",
    "        self.MAX_EPOCHS = training_parameters['MAX_EPOCHS']\n",
    "\n",
    "\n",
    "    def __call__(self, *args, **kwargs):\n",
    "        \n",
    "        return True\n",
    "\n",
    "    @staticmethod\n",
    "    def create_train_dataloader():\n",
    "        mnist = fetch_openml('mnist_784', version=1, as_frame=False)\n",
    "        X, Y = mnist[\"data\"], mnist[\"target\"]\n",
    "\n",
    "        X_t = torch.from_numpy(X).float().cuda()\n",
    "        Y_t = torch.from_numpy(Y.astype(int)).long().cuda()\n",
    "\n",
    "        X_train, X_test, y_train, y_test = split_data(X_t, Y_t)\n",
    "        return ((X_train, y_train))\n",
    "\n",
    "\n",
    "    @staticmethod\n",
    "    def cross_entropy(output, target):\n",
    "        logits = output[torch.arange(len(output)), target]\n",
    "        loss = - logits + torch.log(torch.sum(torch.exp(output), axis=-1))\n",
    "        loss = loss.mean()\n",
    "        return loss\n",
    "\n",
    "\n",
    "    def train(self):\n",
    "        \"\"\"\n",
    "        Method to train a model given a dataset.\n",
    "        \"\"\"\n",
    "\n",
    "        self.__model.train()\n",
    "        images, gts = self.__training_dataloader\n",
    "        images.to(self.__device)\n",
    "        gts.to(self.__device)\n",
    "\n",
    "        # x = self._preprocess(x)\n",
    "\n",
    "        epoch_loss = []\n",
    "        epoch_batch = 10\n",
    "\n",
    "        for epoch in range(1, self.epochs+1):  \n",
    "\n",
    "            y_pred = self.__model(images)\n",
    "\n",
    "            # Gradiends are turned to zero in order to avoid acumulation\n",
    "            self.__model.zero_grad()\n",
    "\n",
    "            # loss\n",
    "            train_loss = self.cross_entropy(y_pred, gts)\n",
    "            epoch_loss.append(train_loss.item())\n",
    "\n",
    "            # Backprop\n",
    "            train_loss.backward()\n",
    "\n",
    "            # # updates\n",
    "            with torch.no_grad():\n",
    "                for param in self.__model.parameters():\n",
    "                    param -= self.lr * param.grad\n",
    "\n",
    "            # running_loss += train_loss.item()\n",
    "\n",
    "            # # loss logger\n",
    "            # self.log_metric(\"train_loss\", train_loss)\n",
    "\n",
    "            if not epoch % epoch_batch:\n",
    "                print(f\"Epoch {epoch}/{self.epochs} Loss {np.mean(epoch_loss):.5f}\") \n",
    "\n",
    "            if epoch >= self.MAX_EPOCHS:\n",
    "                break\n",
    "\n",
    "        return True\n",
    "\n",
    "    "
   ]
  },
  {
   "cell_type": "markdown",
   "metadata": {
    "pycharm": {
     "name": "#%% md\n"
    }
   },
   "source": [
    "### Test function split_data"
   ]
  },
  {
   "cell_type": "code",
   "execution_count": 3,
   "metadata": {
    "pycharm": {
     "name": "#%%\n"
    }
   },
   "outputs": [],
   "source": [
    "def split_data(x_data, y_data, test_percent=0.20, seed=42):\n",
    "        \"\"\"\n",
    "        The method split_data(), which belongs to the class Model, receives four parameters:\n",
    "\n",
    "        - x_data: Samples (torch.Tensor).\n",
    "        - y_data: Targets of the samples (torch.Tensor).\n",
    "        - test_percent: Percentage of total data employed for testing (default = 0.20).\n",
    "        - seed:         Used to replicate the resulting training and evaluation sets (default = None).\n",
    "\n",
    "        And it is going to return two sets one for training and one for testing (each of which contains is divided into samples and targets).\n",
    "        \"\"\"\n",
    "\n",
    "        x_numpy = x_data.cpu().numpy()\n",
    "        y_numpy = y_data.cpu().numpy()\n",
    "\n",
    "        X_train, X_test, y_train, y_test = train_test_split(x_numpy, y_numpy, test_size=test_percent, random_state=seed)\n",
    "        \n",
    "        return torch.from_numpy(X_train).float().cuda(), torch.from_numpy(X_test).float().cuda(), torch.from_numpy(y_train).long().cuda(), torch.from_numpy(y_test).long().cuda()"
   ]
  },
  {
   "cell_type": "code",
   "execution_count": 4,
   "metadata": {
    "pycharm": {
     "name": "#%%\n"
    }
   },
   "outputs": [
    {
     "name": "stdout",
     "output_type": "stream",
     "text": [
      "torch.Size([56000, 784])\n",
      "torch.Size([56000])\n",
      "torch.Size([14000, 784])\n",
      "torch.Size([14000])\n"
     ]
    }
   ],
   "source": [
    "from sklearn.datasets import fetch_openml\n",
    "\n",
    "mnist = fetch_openml('mnist_784', version=1, as_frame=False)\n",
    "X, Y = mnist[\"data\"], mnist[\"target\"]\n",
    "\n",
    "X_t = torch.from_numpy(X).float().cuda()\n",
    "Y_t = torch.from_numpy(Y.astype(int)).long().cuda()\n",
    "\n",
    "X_train, X_test, y_train, y_test = split_data(X_t, Y_t)\n",
    "\n",
    "print(X_train.shape)\n",
    "print(y_train.shape)\n",
    "print(X_test.shape)\n",
    "print(y_test.shape)"
   ]
  },
  {
   "cell_type": "code",
   "execution_count": 7,
   "metadata": {},
   "outputs": [
    {
     "name": "stdout",
     "output_type": "stream",
     "text": [
      "Sample number: 6\n"
     ]
    },
    {
     "data": {
      "image/png": "[encoded data removed]",
      "text/plain": [
       "<Figure size 432x288 with 1 Axes>"
      ]
     },
     "metadata": {
      "needs_background": "light"
     },
     "output_type": "display_data"
    }
   ],
   "source": [
    "from matplotlib import pyplot as plt\n",
    "\n",
    "num_sample = 120\n",
    "\n",
    "print('Sample number: {}'.format(y_train[num_sample].cpu().numpy()))\n",
    "\n",
    "plt.imshow(X_train[num_sample].reshape((28,28)).cpu().numpy(), cmap='gray')\n",
    "plt.show()"
   ]
  },
  {
   "cell_type": "markdown",
   "metadata": {},
   "source": [
    "### Test resizing images (3 channels)"
   ]
  },
  {
   "cell_type": "code",
   "execution_count": 8,
   "metadata": {},
   "outputs": [
    {
     "name": "stderr",
     "output_type": "stream",
     "text": [
      "Clipping input data to the valid range for imshow with RGB data ([0..1] for floats or [0..255] for integers).\n"
     ]
    },
    {
     "data": {
      "image/png": "[encoded data removed]",
      "text/plain": [
       "<Figure size 432x288 with 1 Axes>"
      ]
     },
     "metadata": {
      "needs_background": "light"
     },
     "output_type": "display_data"
    }
   ],
   "source": [
    "stacked_img = np.stack((X_train.cpu().numpy(),) * 3, axis=-1)\n",
    "plt.imshow(stacked_img[num_sample].reshape((28,28,3)), cmap='gray')\n",
    "plt.show()"
   ]
  },
  {
   "cell_type": "markdown",
   "metadata": {
    "pycharm": {
     "name": "#%% md\n"
    }
   },
   "source": [
    "### Test function get_accuracy"
   ]
  },
  {
   "cell_type": "code",
   "execution_count": null,
   "metadata": {
    "pycharm": {
     "name": "#%%\n"
    }
   },
   "outputs": [],
   "source": [
    "def get_accuracy(model, x_data, y_data):\n",
    "        \"\"\"\n",
    "        This method receives a set of samples (x_data), with their respective targets (y_data), and gets the accuracy of the model.\n",
    "        \"\"\"\n",
    "\n",
    "        num_correct = 0\n",
    "        num_samples = len(y_data)\n",
    "        model.eval()\n",
    "        \n",
    "        with torch.no_grad():\n",
    "            for x_sample, y_sample in zip(x_data, y_data):\n",
    "                \n",
    "                scores = model(x_sample)\n",
    "                _, predictions = scores.max(1)\n",
    "                num_correct += (predictions == y_sample).sum()\n",
    "            \n",
    "            return (num_correct/num_samples)*100\n",
    "        "
   ]
  },
  {
   "cell_type": "code",
   "execution_count": 3,
   "metadata": {},
   "outputs": [
    {
     "data": {
      "text/plain": [
       "Sequential(\n",
       "  (0): Linear(in_features=784, out_features=100, bias=True)\n",
       "  (1): ReLU()\n",
       "  (2): Linear(in_features=100, out_features=10, bias=True)\n",
       ")"
      ]
     },
     "execution_count": 3,
     "metadata": {},
     "output_type": "execute_result"
    }
   ],
   "source": [
    "D_in, H, D_out = 784, 100, 10\n",
    "\n",
    "model = torch.nn.Sequential(\n",
    "    torch.nn.Linear(D_in, H),\n",
    "    torch.nn.ReLU(),\n",
    "    torch.nn.Linear(H, D_out),\n",
    ")\n",
    "\n",
    "model.to(\"cuda\")"
   ]
  },
  {
   "cell_type": "code",
   "execution_count": 22,
   "metadata": {},
   "outputs": [
    {
     "data": {
      "text/plain": [
       "tensor([ 31.7624,   3.0775,  21.7556, -28.7571,   0.1901,  -5.1070,  13.5286,\n",
       "          1.2703,  -3.5361,   9.5145], device='cuda:0', grad_fn=<AddBackward0>)"
      ]
     },
     "execution_count": 22,
     "metadata": {},
     "output_type": "execute_result"
    }
   ],
   "source": [
    "model(X_train[num_sample])"
   ]
  },
  {
   "cell_type": "markdown",
   "metadata": {},
   "source": [
    "### Test parameters.json"
   ]
  },
  {
   "cell_type": "code",
   "execution_count": 47,
   "metadata": {},
   "outputs": [
    {
     "data": {
      "text/plain": [
       "100"
      ]
     },
     "execution_count": 47,
     "metadata": {},
     "output_type": "execute_result"
    }
   ],
   "source": [
    "new_training = Training(model, 'parameters.json')\n",
    "new_training.epochs"
   ]
  },
  {
   "cell_type": "markdown",
   "metadata": {},
   "source": [
    "### Test function pred"
   ]
  },
  {
   "cell_type": "code",
   "execution_count": null,
   "metadata": {},
   "outputs": [],
   "source": []
  },
  {
   "cell_type": "markdown",
   "metadata": {},
   "source": [
    "### Emulation __training_dataloader"
   ]
  },
  {
   "cell_type": "code",
   "execution_count": 103,
   "metadata": {},
   "outputs": [],
   "source": [
    "from sklearn.datasets import fetch_openml\n",
    "\n",
    "def __training_dataloader():\n",
    "    mnist = fetch_openml('mnist_784', version=1, as_frame=False)\n",
    "    X, Y = mnist[\"data\"], mnist[\"target\"]\n",
    "\n",
    "    X_t = torch.from_numpy(X).float().cuda()\n",
    "    Y_t = torch.from_numpy(Y.astype(int)).long().cuda()\n",
    "\n",
    "    X_train, X_test, y_train, y_test = split_data(X_t, Y_t)\n",
    "    return ((X_train.shape, y_train.shape))"
   ]
  },
  {
   "cell_type": "markdown",
   "metadata": {},
   "source": [
    "### Test funcion training"
   ]
  },
  {
   "cell_type": "code",
   "execution_count": null,
   "metadata": {},
   "outputs": [],
   "source": [
    "def train(self):\n",
    "    \"\"\"\n",
    "    Method to train a model given a dataset.\n",
    "    \"\"\"\n",
    "\n",
    "    self.train()\n",
    "\n",
    "    running_loss = 0.0\n",
    "    for data in self.__training_dataloader:\n",
    "        images, gts = data\n",
    "\n",
    "        images.to(self.__device)\n",
    "        gts.to(self.__device)\n",
    "\n",
    "        # x = self._preprocess(x)\n",
    "\n",
    "        # preds = self(images)\n",
    "\n",
    "        # # ponemos a cero los gradientes\n",
    "        # self.zero_grad()\n",
    "\n",
    "        # # loss\n",
    "        # train_loss = self.criterion(preds, gts)\n",
    "        # train_loss.backward()\n",
    "\n",
    "        # # updates\n",
    "        # self.optimizer.step()\n",
    "\n",
    "        # running_loss += train_loss.item()\n",
    "\n",
    "        # # loss logger\n",
    "        # self.log_metric(\"train_loss\", train_loss)\n",
    "\n",
    "    return (images.shape, gts.shape)"
   ]
  },
  {
   "cell_type": "code",
   "execution_count": 175,
   "metadata": {},
   "outputs": [
    {
     "data": {
      "text/plain": [
       "100"
      ]
     },
     "execution_count": 175,
     "metadata": {},
     "output_type": "execute_result"
    }
   ],
   "source": [
    "new_training = Training(model, 'parameters.json')\n",
    "new_training.epochs"
   ]
  },
  {
   "cell_type": "code",
   "execution_count": 176,
   "metadata": {},
   "outputs": [
    {
     "name": "stdout",
     "output_type": "stream",
     "text": [
      "Epoch 10/100 Loss 14.47456\n",
      "Epoch 20/100 Loss 11.31852\n",
      "Epoch 30/100 Loss 9.45172\n",
      "Epoch 40/100 Loss 8.20859\n",
      "Epoch 50/100 Loss 7.31508\n",
      "Epoch 60/100 Loss 6.63780\n",
      "Epoch 70/100 Loss 6.10433\n",
      "Epoch 80/100 Loss 5.67161\n",
      "Epoch 90/100 Loss 5.31241\n",
      "Epoch 100/100 Loss 5.00867\n"
     ]
    },
    {
     "data": {
      "text/plain": [
       "True"
      ]
     },
     "execution_count": 176,
     "metadata": {},
     "output_type": "execute_result"
    }
   ],
   "source": [
    "new_training.train()"
   ]
  }
 ],
 "metadata": {
  "interpreter": {
   "hash": "707c54fc449c242a99d0015019b0ebb80e91ba051eefcf42ec4fa5bd006a7811"
  },
  "kernelspec": {
   "display_name": "Python 3.10.4 ('hello_environments')",
   "language": "python",
   "name": "python3"
  },
  "language_info": {
   "codemirror_mode": {
    "name": "ipython",
    "version": 3
   },
   "file_extension": ".py",
   "mimetype": "text/x-python",
   "name": "python",
   "nbconvert_exporter": "python",
   "pygments_lexer": "ipython3",
   "version": "3.10.4"
  },
  "orig_nbformat": 4
 },
 "nbformat": 4,
 "nbformat_minor": 2
}
